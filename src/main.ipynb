{
  "cells": [
    {
      "cell_type": "code",
      "execution_count": 374,
      "metadata": {
        "id": "IjGYjEiduzxk"
      },
      "outputs": [],
      "source": [
        "# !pip install pycaret pandas seaborn numpy scikit-learn --break-system-packages"
      ]
    },
    {
      "cell_type": "code",
      "execution_count": 375,
      "metadata": {
        "id": "lfjzDkp3JsU8"
      },
      "outputs": [],
      "source": [
        "import pandas as pd"
      ]
    },
    {
      "cell_type": "markdown",
      "metadata": {},
      "source": [
        "Importa os dados"
      ]
    },
    {
      "cell_type": "code",
      "execution_count": 376,
      "metadata": {
        "id": "blxSTn6LJtoC"
      },
      "outputs": [],
      "source": [
        "train = pd.read_csv('../assets/train.csv')\n",
        "test = pd.read_csv('../assets/test.csv')"
      ]
    },
    {
      "cell_type": "markdown",
      "metadata": {},
      "source": [
        "Remove dados que não servem para o modelo e seleciona as features importantes"
      ]
    },
    {
      "cell_type": "code",
      "execution_count": 377,
      "metadata": {
        "id": "UL0EASQYJvO4"
      },
      "outputs": [],
      "source": [
        "columns_to_drop = [\n",
        "  'track_id', 'artists', 'album_name', 'track_name', 'track_unique_id'];"
      ]
    },
    {
      "cell_type": "code",
      "execution_count": 378,
      "metadata": {
        "id": "kPisfOKtJwSw"
      },
      "outputs": [],
      "source": [
        "train = train.drop(columns=columns_to_drop)\n",
        "test_droped = test.drop(columns=columns_to_drop)"
      ]
    },
    {
      "cell_type": "markdown",
      "metadata": {},
      "source": [
        "Verifica a quantidade de nulos"
      ]
    },
    {
      "cell_type": "code",
      "execution_count": 379,
      "metadata": {},
      "outputs": [
        {
          "data": {
            "text/plain": [
              "duration_ms          0\n",
              "explicit             0\n",
              "danceability         0\n",
              "energy               0\n",
              "key                  0\n",
              "loudness             0\n",
              "mode                 0\n",
              "speechiness          0\n",
              "acousticness         0\n",
              "instrumentalness     0\n",
              "liveness             0\n",
              "valence              0\n",
              "tempo                0\n",
              "time_signature       0\n",
              "track_genre          0\n",
              "popularity_target    0\n",
              "dtype: int64"
            ]
          },
          "execution_count": 379,
          "metadata": {},
          "output_type": "execute_result"
        }
      ],
      "source": [
        "train.isna().sum()"
      ]
    },
    {
      "cell_type": "markdown",
      "metadata": {},
      "source": [
        "Verifica a existencia de duplicatas"
      ]
    },
    {
      "cell_type": "code",
      "execution_count": 380,
      "metadata": {},
      "outputs": [
        {
          "data": {
            "text/plain": [
              "6071"
            ]
          },
          "execution_count": 380,
          "metadata": {},
          "output_type": "execute_result"
        }
      ],
      "source": [
        "train.duplicated().sum()"
      ]
    },
    {
      "cell_type": "markdown",
      "metadata": {},
      "source": [
        "Remove as duplicatas e valores nulos"
      ]
    },
    {
      "cell_type": "code",
      "execution_count": 381,
      "metadata": {},
      "outputs": [],
      "source": [
        "train.dropna(inplace=True)\n",
        "train.drop_duplicates(inplace=True)"
      ]
    },
    {
      "cell_type": "code",
      "execution_count": 382,
      "metadata": {},
      "outputs": [
        {
          "data": {
            "text/html": [
              "<div>\n",
              "<style scoped>\n",
              "    .dataframe tbody tr th:only-of-type {\n",
              "        vertical-align: middle;\n",
              "    }\n",
              "\n",
              "    .dataframe tbody tr th {\n",
              "        vertical-align: top;\n",
              "    }\n",
              "\n",
              "    .dataframe thead th {\n",
              "        text-align: right;\n",
              "    }\n",
              "</style>\n",
              "<table border=\"1\" class=\"dataframe\">\n",
              "  <thead>\n",
              "    <tr style=\"text-align: right;\">\n",
              "      <th></th>\n",
              "      <th>duration_ms</th>\n",
              "      <th>danceability</th>\n",
              "      <th>energy</th>\n",
              "      <th>key</th>\n",
              "      <th>loudness</th>\n",
              "      <th>mode</th>\n",
              "      <th>speechiness</th>\n",
              "      <th>acousticness</th>\n",
              "      <th>instrumentalness</th>\n",
              "      <th>liveness</th>\n",
              "      <th>valence</th>\n",
              "      <th>tempo</th>\n",
              "      <th>time_signature</th>\n",
              "      <th>popularity_target</th>\n",
              "    </tr>\n",
              "  </thead>\n",
              "  <tbody>\n",
              "    <tr>\n",
              "      <th>count</th>\n",
              "      <td>7.372900e+04</td>\n",
              "      <td>73729.000000</td>\n",
              "      <td>73729.000000</td>\n",
              "      <td>73729.000000</td>\n",
              "      <td>73729.000000</td>\n",
              "      <td>73729.000000</td>\n",
              "      <td>73729.000000</td>\n",
              "      <td>73729.000000</td>\n",
              "      <td>73729.000000</td>\n",
              "      <td>73729.000000</td>\n",
              "      <td>73729.000000</td>\n",
              "      <td>73729.000000</td>\n",
              "      <td>73729.000000</td>\n",
              "      <td>73729.000000</td>\n",
              "    </tr>\n",
              "    <tr>\n",
              "      <th>mean</th>\n",
              "      <td>2.300604e+05</td>\n",
              "      <td>0.564368</td>\n",
              "      <td>0.642057</td>\n",
              "      <td>5.295067</td>\n",
              "      <td>-8.339691</td>\n",
              "      <td>0.634879</td>\n",
              "      <td>0.085487</td>\n",
              "      <td>0.315631</td>\n",
              "      <td>0.166315</td>\n",
              "      <td>0.215854</td>\n",
              "      <td>0.468751</td>\n",
              "      <td>122.283364</td>\n",
              "      <td>3.902589</td>\n",
              "      <td>0.520799</td>\n",
              "    </tr>\n",
              "    <tr>\n",
              "      <th>std</th>\n",
              "      <td>1.063644e+05</td>\n",
              "      <td>0.173173</td>\n",
              "      <td>0.253209</td>\n",
              "      <td>3.558324</td>\n",
              "      <td>5.082573</td>\n",
              "      <td>0.481467</td>\n",
              "      <td>0.107938</td>\n",
              "      <td>0.333699</td>\n",
              "      <td>0.317469</td>\n",
              "      <td>0.193528</td>\n",
              "      <td>0.259180</td>\n",
              "      <td>29.841426</td>\n",
              "      <td>0.436264</td>\n",
              "      <td>0.499571</td>\n",
              "    </tr>\n",
              "    <tr>\n",
              "      <th>min</th>\n",
              "      <td>1.338600e+04</td>\n",
              "      <td>0.000000</td>\n",
              "      <td>0.000019</td>\n",
              "      <td>0.000000</td>\n",
              "      <td>-49.307000</td>\n",
              "      <td>0.000000</td>\n",
              "      <td>0.000000</td>\n",
              "      <td>0.000000</td>\n",
              "      <td>0.000000</td>\n",
              "      <td>0.000000</td>\n",
              "      <td>0.000000</td>\n",
              "      <td>0.000000</td>\n",
              "      <td>0.000000</td>\n",
              "      <td>0.000000</td>\n",
              "    </tr>\n",
              "    <tr>\n",
              "      <th>25%</th>\n",
              "      <td>1.757140e+05</td>\n",
              "      <td>0.454000</td>\n",
              "      <td>0.468000</td>\n",
              "      <td>2.000000</td>\n",
              "      <td>-10.128000</td>\n",
              "      <td>0.000000</td>\n",
              "      <td>0.035900</td>\n",
              "      <td>0.015600</td>\n",
              "      <td>0.000000</td>\n",
              "      <td>0.098200</td>\n",
              "      <td>0.254000</td>\n",
              "      <td>99.771000</td>\n",
              "      <td>4.000000</td>\n",
              "      <td>0.000000</td>\n",
              "    </tr>\n",
              "    <tr>\n",
              "      <th>50%</th>\n",
              "      <td>2.147380e+05</td>\n",
              "      <td>0.577000</td>\n",
              "      <td>0.686000</td>\n",
              "      <td>5.000000</td>\n",
              "      <td>-7.097000</td>\n",
              "      <td>1.000000</td>\n",
              "      <td>0.048900</td>\n",
              "      <td>0.170000</td>\n",
              "      <td>0.000060</td>\n",
              "      <td>0.132000</td>\n",
              "      <td>0.455000</td>\n",
              "      <td>122.053000</td>\n",
              "      <td>4.000000</td>\n",
              "      <td>1.000000</td>\n",
              "    </tr>\n",
              "    <tr>\n",
              "      <th>75%</th>\n",
              "      <td>2.646400e+05</td>\n",
              "      <td>0.692000</td>\n",
              "      <td>0.857000</td>\n",
              "      <td>8.000000</td>\n",
              "      <td>-5.028000</td>\n",
              "      <td>1.000000</td>\n",
              "      <td>0.084500</td>\n",
              "      <td>0.601000</td>\n",
              "      <td>0.077800</td>\n",
              "      <td>0.278000</td>\n",
              "      <td>0.677000</td>\n",
              "      <td>140.081000</td>\n",
              "      <td>4.000000</td>\n",
              "      <td>1.000000</td>\n",
              "    </tr>\n",
              "    <tr>\n",
              "      <th>max</th>\n",
              "      <td>5.237295e+06</td>\n",
              "      <td>0.985000</td>\n",
              "      <td>1.000000</td>\n",
              "      <td>11.000000</td>\n",
              "      <td>4.532000</td>\n",
              "      <td>1.000000</td>\n",
              "      <td>0.965000</td>\n",
              "      <td>0.996000</td>\n",
              "      <td>1.000000</td>\n",
              "      <td>1.000000</td>\n",
              "      <td>0.995000</td>\n",
              "      <td>222.605000</td>\n",
              "      <td>5.000000</td>\n",
              "      <td>1.000000</td>\n",
              "    </tr>\n",
              "  </tbody>\n",
              "</table>\n",
              "</div>"
            ],
            "text/plain": [
              "        duration_ms  danceability        energy           key      loudness  \\\n",
              "count  7.372900e+04  73729.000000  73729.000000  73729.000000  73729.000000   \n",
              "mean   2.300604e+05      0.564368      0.642057      5.295067     -8.339691   \n",
              "std    1.063644e+05      0.173173      0.253209      3.558324      5.082573   \n",
              "min    1.338600e+04      0.000000      0.000019      0.000000    -49.307000   \n",
              "25%    1.757140e+05      0.454000      0.468000      2.000000    -10.128000   \n",
              "50%    2.147380e+05      0.577000      0.686000      5.000000     -7.097000   \n",
              "75%    2.646400e+05      0.692000      0.857000      8.000000     -5.028000   \n",
              "max    5.237295e+06      0.985000      1.000000     11.000000      4.532000   \n",
              "\n",
              "               mode   speechiness  acousticness  instrumentalness  \\\n",
              "count  73729.000000  73729.000000  73729.000000      73729.000000   \n",
              "mean       0.634879      0.085487      0.315631          0.166315   \n",
              "std        0.481467      0.107938      0.333699          0.317469   \n",
              "min        0.000000      0.000000      0.000000          0.000000   \n",
              "25%        0.000000      0.035900      0.015600          0.000000   \n",
              "50%        1.000000      0.048900      0.170000          0.000060   \n",
              "75%        1.000000      0.084500      0.601000          0.077800   \n",
              "max        1.000000      0.965000      0.996000          1.000000   \n",
              "\n",
              "           liveness       valence         tempo  time_signature  \\\n",
              "count  73729.000000  73729.000000  73729.000000    73729.000000   \n",
              "mean       0.215854      0.468751    122.283364        3.902589   \n",
              "std        0.193528      0.259180     29.841426        0.436264   \n",
              "min        0.000000      0.000000      0.000000        0.000000   \n",
              "25%        0.098200      0.254000     99.771000        4.000000   \n",
              "50%        0.132000      0.455000    122.053000        4.000000   \n",
              "75%        0.278000      0.677000    140.081000        4.000000   \n",
              "max        1.000000      0.995000    222.605000        5.000000   \n",
              "\n",
              "       popularity_target  \n",
              "count       73729.000000  \n",
              "mean            0.520799  \n",
              "std             0.499571  \n",
              "min             0.000000  \n",
              "25%             0.000000  \n",
              "50%             1.000000  \n",
              "75%             1.000000  \n",
              "max             1.000000  "
            ]
          },
          "execution_count": 382,
          "metadata": {},
          "output_type": "execute_result"
        }
      ],
      "source": [
        "train.describe()"
      ]
    },
    {
      "cell_type": "markdown",
      "metadata": {},
      "source": [
        "Encoda as variáveis categóricas que serão utilizadas no modelo"
      ]
    },
    {
      "cell_type": "code",
      "execution_count": 383,
      "metadata": {},
      "outputs": [],
      "source": [
        "from sklearn.preprocessing import LabelEncoder\n",
        "\n",
        "label_encoder = LabelEncoder()\n",
        "train['track_genre'] = label_encoder.fit_transform(train['track_genre'])\n",
        "test['track_genre'] = label_encoder.transform(test['track_genre'])\n",
        "test['track_genre'] = test['track_genre']"
      ]
    },
    {
      "cell_type": "markdown",
      "metadata": {
        "id": "irw_McjWHjQ-"
      },
      "source": [
        "Analisando os dados sobre as músicas mais populares, formulei as seguintes hipóteses:\n",
        "\n",
        "**1. Hipótese sobre a relação entre gênero musical e popularidade:**\n",
        "<br>\n",
        "**Hipótese:** Alguns gêneros músicais se provam mais populares quando comparados com o geral. Podemos dizer que para predizer com precisão sobre a popularidade de uma música, é muito importante que usemos como feature o gênero do mesmo."
      ]
    },
    {
      "cell_type": "code",
      "execution_count": 384,
      "metadata": {
        "colab": {
          "base_uri": "https://localhost:8080/",
          "height": 455
        },
        "id": "IqfGEe7sINMq",
        "outputId": "c3b8a63d-dfe8-4511-cd4a-afaa84f648be"
      },
      "outputs": [
        {
          "data": {
            "text/plain": [
              "<Axes: xlabel='track_genre'>"
            ]
          },
          "execution_count": 384,
          "metadata": {},
          "output_type": "execute_result"
        },
        {
          "data": {
            "image/png": "[encoded data removed]",
            "text/plain": [
              "<Figure size 1000x500 with 1 Axes>"
            ]
          },
          "metadata": {},
          "output_type": "display_data"
        }
      ],
      "source": [
        "import seaborn as sns\n",
        "import matplotlib.pyplot as plt\n",
        "\n",
        "track_genre_popularity = train.groupby('track_genre')['popularity_target'].value_counts(normalize=True).unstack()\n",
        "top_genre = track_genre_popularity.sort_values(by=1, ascending=False).head(25)\n",
        "top_genre.plot(kind='bar', stacked='True', figsize=(10, 5))"
      ]
    },
    {
      "cell_type": "code",
      "execution_count": 385,
      "metadata": {},
      "outputs": [
        {
          "data": {
            "text/plain": [
              "<Axes: xlabel='track_genre'>"
            ]
          },
          "execution_count": 385,
          "metadata": {},
          "output_type": "execute_result"
        },
        {
          "data": {
            "image/png": "[encoded data removed]",
            "text/plain": [
              "<Figure size 1000x500 with 1 Axes>"
            ]
          },
          "metadata": {},
          "output_type": "display_data"
        }
      ],
      "source": [
        "loss_genre = track_genre_popularity.sort_values(by=1, ascending=False).tail(25)\n",
        "loss_genre.plot(kind='bar', stacked='True', figsize=(10, 5))"
      ]
    },
    {
      "cell_type": "markdown",
      "metadata": {},
      "source": [
        "Se olharmos nos gráficos acima, podemos visualizar que alguns gêneros acumulam muito mais músicas populares do que outros. Isso nos mostra uma clara relação entre gênero músical e sua popularidade."
      ]
    },
    {
      "cell_type": "markdown",
      "metadata": {},
      "source": [
        "**2. Hipótese sobre o tempo da música e sua relação com a popularidade:**\n",
        "<br>\n",
        "**Hipótese:** Músicas com um BPM mais elevados costumam ter uma popularidade maior"
      ]
    },
    {
      "cell_type": "code",
      "execution_count": 386,
      "metadata": {},
      "outputs": [
        {
          "name": "stderr",
          "output_type": "stream",
          "text": [
            "/tmp/ipykernel_63628/2394540551.py:10: FutureWarning: The default of observed=False is deprecated and will be changed to True in a future version of pandas. Pass observed=False to retain current behavior or observed=True to adopt the future default and silence this warning.\n",
            "  grouped = train_hp2.groupby(['tempo_range', 'popularity_target']).size().unstack(fill_value=0)\n"
          ]
        },
        {
          "data": {
            "image/png": "[encoded data removed]",
            "text/plain": [
              "<Figure size 1000x600 with 1 Axes>"
            ]
          },
          "metadata": {},
          "output_type": "display_data"
        }
      ],
      "source": [
        "# Criar grupos de intervalo de tempo\n",
        "bins = [0, 60, 90, 120, 150, 180]  # Definir intervalos de tempo (em BPM)\n",
        "labels = ['0-60', '60-90', '90-120', '120-150', '150-180']\n",
        "train_hp2 = pd.DataFrame()\n",
        "train_hp2['tempo'] = train['tempo']\n",
        "train_hp2['popularity_target'] = train['popularity_target']\n",
        "train_hp2['tempo_range'] = pd.cut(train_hp2['tempo'], bins=bins, labels=labels)\n",
        "\n",
        "# Contar popularidade em cada intervalo de tempo\n",
        "grouped = train_hp2.groupby(['tempo_range', 'popularity_target']).size().unstack(fill_value=0)\n",
        "\n",
        "# Criar gráfico de barras\n",
        "grouped.plot(kind='bar', stacked=True, figsize=(10, 6), color=['red', 'blue'])\n",
        "\n",
        "# Personalizar gráfico\n",
        "plt.title('Popularidade de Músicas por Intervalo de Tempo (BPM)')\n",
        "plt.xlabel('Intervalo de Tempo (BPM)')\n",
        "plt.ylabel('Número de Músicas')\n",
        "plt.legend(['Não Popular', 'Popular'])\n",
        "plt.show()"
      ]
    },
    {
      "cell_type": "markdown",
      "metadata": {},
      "source": [
        "**3. Hipótese sobre a dançabilidade e popularidade**\n",
        "<br>\n",
        "**Hipótese:** Músicas com uma dançabilidade elevada tem mais probabilidade de se tornarem popular "
      ]
    },
    {
      "cell_type": "code",
      "execution_count": 387,
      "metadata": {},
      "outputs": [
        {
          "name": "stderr",
          "output_type": "stream",
          "text": [
            "/tmp/ipykernel_63628/2191209780.py:8: FutureWarning: The default of observed=False is deprecated and will be changed to True in a future version of pandas. Pass observed=False to retain current behavior or observed=True to adopt the future default and silence this warning.\n",
            "  grouped = train_hp2.groupby(['danceability_range', 'popularity_target']).size().unstack(fill_value=0)\n"
          ]
        },
        {
          "data": {
            "image/png": "[encoded data removed]",
            "text/plain": [
              "<Figure size 1000x600 with 1 Axes>"
            ]
          },
          "metadata": {},
          "output_type": "display_data"
        }
      ],
      "source": [
        "# Criar grupos de intervalo de danceability\n",
        "bins = [0, 0.2, 0.4, 0.6, 0.8, 1.0]  # Definir intervalos de danceability\n",
        "labels = ['0-0.2', '0.2-0.4', '0.4-0.6', '0.6-0.8', '0.8-1.0']\n",
        "train_hp2['danceability'] = train['danceability']\n",
        "train_hp2['danceability_range'] = pd.cut(train_hp2['danceability'], bins=bins, labels=labels)\n",
        "\n",
        "# Contar popularidade em cada intervalo de danceability\n",
        "grouped = train_hp2.groupby(['danceability_range', 'popularity_target']).size().unstack(fill_value=0)\n",
        "\n",
        "# Criar gráfico de barras\n",
        "grouped.plot(kind='bar', stacked=True, figsize=(10, 6), color=['red', 'blue'])\n",
        "\n",
        "# Personalizar gráfico\n",
        "plt.title('Popularidade de Músicas por Danceability')\n",
        "plt.xlabel('Danceability')\n",
        "plt.ylabel('Número de Músicas')\n",
        "plt.legend(['Não Popular', 'Popular'])\n",
        "plt.show()"
      ]
    },
    {
      "cell_type": "markdown",
      "metadata": {},
      "source": [
        "Normalização de dados e seleção de features e target\n",
        "Divisão de dados de treino e teste"
      ]
    },
    {
      "cell_type": "code",
      "execution_count": 388,
      "metadata": {
        "id": "N9JPHsK848M1"
      },
      "outputs": [],
      "source": [
        "from sklearn.model_selection import train_test_split\n",
        "from sklearn.preprocessing import StandardScaler\n",
        "\n",
        "scaler = StandardScaler()\n",
        "\n",
        "X = scaler.fit_transform(train.drop(columns=['popularity_target']))\n",
        "y = train['popularity_target']\n",
        "\n",
        "X_train, X_test, y_train, y_test = train_test_split(X, y, test_size=0.25, random_state=42)"
      ]
    },
    {
      "cell_type": "markdown",
      "metadata": {},
      "source": [
        "Configuração do tunning do modelo"
      ]
    },
    {
      "cell_type": "code",
      "execution_count": 389,
      "metadata": {
        "id": "ichQRtCqDBTl"
      },
      "outputs": [],
      "source": [
        "param_distributions = {\n",
        "    'n_estimators': [100],\n",
        "    'max_depth': [None, 10, 20, 30],\n",
        "    'min_samples_split': [2, 5, 10],\n",
        "    'min_samples_leaf': [1, 2, 4],\n",
        "    'max_features': ['sqrt', 'log2'],\n",
        "    'bootstrap': [True]\n",
        "}"
      ]
    },
    {
      "cell_type": "markdown",
      "metadata": {},
      "source": [
        "Estou utilizando o random forest como modelo de classificação, pois ele é um modelo robusto e que lida bem com dados desbalanceados\n",
        "\n",
        "Treino do modelo e avaliação de best params do tunning"
      ]
    },
    {
      "cell_type": "code",
      "execution_count": 390,
      "metadata": {
        "colab": {
          "base_uri": "https://localhost:8080/"
        },
        "id": "FblRPHqk5H6k",
        "outputId": "4d97fbc5-2ee4-4425-c5b7-fedb85ff2b33"
      },
      "outputs": [
        {
          "name": "stdout",
          "output_type": "stream",
          "text": [
            "Fitting 3 folds for each of 10 candidates, totalling 30 fits\n",
            "[CV] END bootstrap=True, max_depth=10, max_features=sqrt, min_samples_leaf=1, min_samples_split=2, n_estimators=100; total time=  15.2s\n",
            "[CV] END bootstrap=True, max_depth=10, max_features=sqrt, min_samples_leaf=1, min_samples_split=2, n_estimators=100; total time=  15.4s\n",
            "[CV] END bootstrap=True, max_depth=10, max_features=sqrt, min_samples_leaf=1, min_samples_split=2, n_estimators=100; total time=  15.4s\n",
            "[CV] END bootstrap=True, max_depth=30, max_features=sqrt, min_samples_leaf=4, min_samples_split=10, n_estimators=100; total time=  26.7s\n",
            "[CV] END bootstrap=True, max_depth=30, max_features=sqrt, min_samples_leaf=4, min_samples_split=10, n_estimators=100; total time=  27.0s\n",
            "[CV] END bootstrap=True, max_depth=None, max_features=sqrt, min_samples_leaf=2, min_samples_split=5, n_estimators=100; total time=  28.0s\n",
            "[CV] END bootstrap=True, max_depth=None, max_features=sqrt, min_samples_leaf=2, min_samples_split=5, n_estimators=100; total time=  28.9s\n",
            "[CV] END bootstrap=True, max_depth=None, max_features=sqrt, min_samples_leaf=1, min_samples_split=2, n_estimators=100; total time=  28.9s\n",
            "[CV] END bootstrap=True, max_depth=30, max_features=sqrt, min_samples_leaf=4, min_samples_split=10, n_estimators=100; total time=  30.2s\n",
            "[CV] END bootstrap=True, max_depth=None, max_features=sqrt, min_samples_leaf=1, min_samples_split=2, n_estimators=100; total time=  30.4s\n",
            "[CV] END bootstrap=True, max_depth=None, max_features=sqrt, min_samples_leaf=2, min_samples_split=5, n_estimators=100; total time=  31.0s\n",
            "[CV] END bootstrap=True, max_depth=10, max_features=log2, min_samples_leaf=1, min_samples_split=5, n_estimators=100; total time=  15.8s\n",
            "[CV] END bootstrap=True, max_depth=10, max_features=log2, min_samples_leaf=1, min_samples_split=5, n_estimators=100; total time=  16.2s\n",
            "[CV] END bootstrap=True, max_depth=10, max_features=log2, min_samples_leaf=1, min_samples_split=5, n_estimators=100; total time=  16.7s\n",
            "[CV] END bootstrap=True, max_depth=None, max_features=sqrt, min_samples_leaf=1, min_samples_split=2, n_estimators=100; total time=  33.1s\n",
            "[CV] END bootstrap=True, max_depth=10, max_features=log2, min_samples_leaf=4, min_samples_split=5, n_estimators=100; total time=  15.1s\n",
            "[CV] END bootstrap=True, max_depth=10, max_features=log2, min_samples_leaf=4, min_samples_split=5, n_estimators=100; total time=  16.0s\n",
            "[CV] END bootstrap=True, max_depth=10, max_features=log2, min_samples_leaf=4, min_samples_split=5, n_estimators=100; total time=  15.8s\n",
            "[CV] END bootstrap=True, max_depth=20, max_features=log2, min_samples_leaf=2, min_samples_split=10, n_estimators=100; total time=  25.0s\n",
            "[CV] END bootstrap=True, max_depth=20, max_features=log2, min_samples_leaf=2, min_samples_split=10, n_estimators=100; total time=  24.5s\n",
            "[CV] END bootstrap=True, max_depth=20, max_features=log2, min_samples_leaf=2, min_samples_split=10, n_estimators=100; total time=  26.1s\n",
            "[CV] END bootstrap=True, max_depth=None, max_features=log2, min_samples_leaf=1, min_samples_split=5, n_estimators=100; total time=  28.3s\n",
            "[CV] END bootstrap=True, max_depth=None, max_features=log2, min_samples_leaf=2, min_samples_split=2, n_estimators=100; total time=  25.6s\n",
            "[CV] END bootstrap=True, max_depth=None, max_features=log2, min_samples_leaf=1, min_samples_split=5, n_estimators=100; total time=  29.5s\n",
            "[CV] END bootstrap=True, max_depth=None, max_features=log2, min_samples_leaf=1, min_samples_split=5, n_estimators=100; total time=  28.5s\n",
            "[CV] END bootstrap=True, max_depth=None, max_features=log2, min_samples_leaf=2, min_samples_split=2, n_estimators=100; total time=  25.5s\n",
            "[CV] END bootstrap=True, max_depth=None, max_features=log2, min_samples_leaf=2, min_samples_split=2, n_estimators=100; total time=  29.3s\n",
            "[CV] END bootstrap=True, max_depth=30, max_features=sqrt, min_samples_leaf=1, min_samples_split=2, n_estimators=100; total time=  22.0s\n",
            "[CV] END bootstrap=True, max_depth=30, max_features=sqrt, min_samples_leaf=1, min_samples_split=2, n_estimators=100; total time=  22.7s\n",
            "[CV] END bootstrap=True, max_depth=30, max_features=sqrt, min_samples_leaf=1, min_samples_split=2, n_estimators=100; total time=  24.7s\n"
          ]
        },
        {
          "data": {
            "text/plain": [
              "{'n_estimators': 100,\n",
              " 'min_samples_split': 2,\n",
              " 'min_samples_leaf': 1,\n",
              " 'max_features': 'sqrt',\n",
              " 'max_depth': None,\n",
              " 'bootstrap': True}"
            ]
          },
          "execution_count": 390,
          "metadata": {},
          "output_type": "execute_result"
        }
      ],
      "source": [
        "from sklearn.ensemble import RandomForestClassifier\n",
        "from sklearn.model_selection import GridSearchCV\n",
        "from sklearn.model_selection import RandomizedSearchCV\n",
        "\n",
        "rf_model = RandomForestClassifier(n_estimators=100, random_state=42)\n",
        "\n",
        "random_search = RandomizedSearchCV(\n",
        "  estimator=rf_model,\n",
        "  param_distributions=param_distributions,\n",
        "  n_iter=10,\n",
        "  cv=3,\n",
        "  scoring='accuracy',\n",
        "  verbose=2,\n",
        "  random_state=42,\n",
        "  n_jobs=-1\n",
        ")\n",
        "\n",
        "best = random_search.fit(X_train, y_train)\n",
        "\n",
        "best.best_params_"
      ]
    },
    {
      "cell_type": "markdown",
      "metadata": {},
      "source": [
        "Verifica acuracia do modelo"
      ]
    },
    {
      "cell_type": "code",
      "execution_count": 391,
      "metadata": {
        "id": "qXmRmRMt5cnh"
      },
      "outputs": [
        {
          "name": "stdout",
          "output_type": "stream",
          "text": [
            "Acurácia: 0.771008517333044\n"
          ]
        }
      ],
      "source": [
        "from sklearn.metrics import accuracy_score\n",
        "y_pred = random_search.predict(X_test)\n",
        "\n",
        "print(\"Acurácia:\", accuracy_score(y_test, y_pred))"
      ]
    },
    {
      "cell_type": "markdown",
      "metadata": {},
      "source": [
        "Verifica métricas além da acurácia do modelo"
      ]
    },
    {
      "cell_type": "code",
      "execution_count": 392,
      "metadata": {
        "id": "-xaxr2cU8p-t"
      },
      "outputs": [
        {
          "name": "stdout",
          "output_type": "stream",
          "text": [
            "Recall: 0.8083\n",
            "Precision: 0.7656\n",
            "F1-Score: 0.7864\n",
            "AUC: 0.8498\n",
            "Kappa: 0.5400\n",
            "MCC: 0.5410\n"
          ]
        }
      ],
      "source": [
        "from sklearn.metrics import recall_score, roc_auc_score, precision_score, f1_score, cohen_kappa_score, matthews_corrcoef\n",
        "\n",
        "y_pred = random_search.predict(X_test)\n",
        "y_prob = random_search.predict_proba(X_test)[:, 1]\n",
        "\n",
        "recall = recall_score(y_test, y_pred)\n",
        "precision = precision_score(y_test, y_pred)\n",
        "f1 = f1_score(y_test, y_pred)\n",
        "auc = roc_auc_score(y_test, y_prob)\n",
        "kappa = cohen_kappa_score(y_test, y_pred)\n",
        "mcc = matthews_corrcoef(y_test, y_pred)\n",
        "\n",
        "print(f\"Recall: {recall:.4f}\")\n",
        "print(f\"Precision: {precision:.4f}\")\n",
        "print(f\"F1-Score: {f1:.4f}\")\n",
        "print(f\"AUC: {auc:.4f}\")\n",
        "print(f\"Kappa: {kappa:.4f}\")\n",
        "print(f\"MCC: {mcc:.4f}\")"
      ]
    },
    {
      "cell_type": "markdown",
      "metadata": {},
      "source": [
        "Gera os testes do modelo com os dados de teste passados pelo kaggle"
      ]
    },
    {
      "cell_type": "code",
      "execution_count": 393,
      "metadata": {},
      "outputs": [
        {
          "ename": "SyntaxError",
          "evalue": "invalid syntax (1428202575.py, line 4)",
          "output_type": "error",
          "traceback": [
            "\u001b[0;36m  Cell \u001b[0;32mIn[393], line 4\u001b[0;36m\u001b[0m\n\u001b[0;31m    prediction  s['popularity_target'] = pd.DataFrame(random_search.predict(scaler.transform(test_droped)))\u001b[0m\n\u001b[0m                ^\u001b[0m\n\u001b[0;31mSyntaxError\u001b[0m\u001b[0;31m:\u001b[0m invalid syntax\n"
          ]
        }
      ],
      "source": [
        "test_droped['track_genre'] = label_encoder.transform(test_droped['track_genre'])\n",
        "\n",
        "# captura as previsões\n",
        "predictions['popularity_target'] = pd.DataFrame(random_search.predict(scaler.transform(test_droped)))\n",
        "predictions['track_unique_id'] = test['track_unique_id']\n",
        "predictions = predictions[['track_unique_id', 'popularity_target']]\n",
        "\n",
        "predictions.to_csv('../assets/predictions.csv', index=False)"
      ]
    }
  ],
  "metadata": {
    "accelerator": "GPU",
    "colab": {
      "gpuType": "T4",
      "provenance": []
    },
    "kernelspec": {
      "display_name": "Python 3",
      "name": "python3"
    },
    "language_info": {
      "codemirror_mode": {
        "name": "ipython",
        "version": 3
      },
      "file_extension": ".py",
      "mimetype": "text/x-python",
      "name": "python",
      "nbconvert_exporter": "python",
      "pygments_lexer": "ipython3",
      "version": "3.12.3"
    }
  },
  "nbformat": 4,
  "nbformat_minor": 0
}
